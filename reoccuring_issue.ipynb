{
 "cells": [
  {
   "cell_type": "code",
   "execution_count": 3,
   "metadata": {},
   "outputs": [
    {
     "name": "stdout",
     "output_type": "stream",
     "text": [
      "Collecting kagglehub\n",
      "  Downloading kagglehub-0.3.6-py3-none-any.whl.metadata (30 kB)\n",
      "Requirement already satisfied: packaging in c:\\users\\prajw\\appdata\\local\\programs\\python\\python311\\lib\\site-packages (from kagglehub) (24.1)\n",
      "Requirement already satisfied: requests in c:\\users\\prajw\\appdata\\local\\programs\\python\\python311\\lib\\site-packages (from kagglehub) (2.32.3)\n",
      "Requirement already satisfied: tqdm in c:\\users\\prajw\\appdata\\local\\programs\\python\\python311\\lib\\site-packages (from kagglehub) (4.66.1)\n",
      "Requirement already satisfied: charset-normalizer<4,>=2 in c:\\users\\prajw\\appdata\\local\\programs\\python\\python311\\lib\\site-packages (from requests->kagglehub) (3.3.2)\n",
      "Requirement already satisfied: idna<4,>=2.5 in c:\\users\\prajw\\appdata\\local\\programs\\python\\python311\\lib\\site-packages (from requests->kagglehub) (3.4)\n",
      "Requirement already satisfied: urllib3<3,>=1.21.1 in c:\\users\\prajw\\appdata\\local\\programs\\python\\python311\\lib\\site-packages (from requests->kagglehub) (1.26.19)\n",
      "Requirement already satisfied: certifi>=2017.4.17 in c:\\users\\prajw\\appdata\\local\\programs\\python\\python311\\lib\\site-packages (from requests->kagglehub) (2024.7.4)\n",
      "Requirement already satisfied: colorama in c:\\users\\prajw\\appdata\\local\\programs\\python\\python311\\lib\\site-packages (from tqdm->kagglehub) (0.4.6)\n",
      "Downloading kagglehub-0.3.6-py3-none-any.whl (51 kB)\n",
      "Installing collected packages: kagglehub\n",
      "Successfully installed kagglehub-0.3.6\n"
     ]
    },
    {
     "name": "stderr",
     "output_type": "stream",
     "text": [
      "WARNING: Ignoring invalid distribution ~ip (C:\\Users\\prajw\\AppData\\Local\\Programs\\Python\\Python311\\Lib\\site-packages)\n",
      "WARNING: Ignoring invalid distribution ~ip (C:\\Users\\prajw\\AppData\\Local\\Programs\\Python\\Python311\\Lib\\site-packages)\n",
      "WARNING: Ignoring invalid distribution ~ip (C:\\Users\\prajw\\AppData\\Local\\Programs\\Python\\Python311\\Lib\\site-packages)\n"
     ]
    }
   ],
   "source": [
    "!pip install kagglehub"
   ]
  },
  {
   "cell_type": "code",
   "execution_count": 4,
   "metadata": {},
   "outputs": [
    {
     "name": "stderr",
     "output_type": "stream",
     "text": [
      "c:\\Users\\prajw\\AppData\\Local\\Programs\\Python\\Python311\\Lib\\site-packages\\tqdm\\auto.py:21: TqdmWarning: IProgress not found. Please update jupyter and ipywidgets. See https://ipywidgets.readthedocs.io/en/stable/user_install.html\n",
      "  from .autonotebook import tqdm as notebook_tqdm\n"
     ]
    },
    {
     "name": "stdout",
     "output_type": "stream",
     "text": [
      "Downloading from https://www.kaggle.com/api/v1/datasets/download/tobiasbueck/multilingual-customer-support-tickets?dataset_version_number=8...\n"
     ]
    },
    {
     "name": "stderr",
     "output_type": "stream",
     "text": [
      "100%|██████████| 2.08M/2.08M [00:02<00:00, 963kB/s] "
     ]
    },
    {
     "name": "stdout",
     "output_type": "stream",
     "text": [
      "Extracting files...\n",
      "Path to dataset files: C:\\Users\\prajw\\.cache\\kagglehub\\datasets\\tobiasbueck\\multilingual-customer-support-tickets\\versions\\8\n"
     ]
    },
    {
     "name": "stderr",
     "output_type": "stream",
     "text": [
      "\n"
     ]
    }
   ],
   "source": [
    "import kagglehub\n",
    "\n",
    "# Download latest version\n",
    "path = kagglehub.dataset_download(\"tobiasbueck/multilingual-customer-support-tickets\")\n",
    "\n",
    "print(\"Path to dataset files:\", path)"
   ]
  },
  {
   "cell_type": "code",
   "execution_count": 8,
   "metadata": {},
   "outputs": [
    {
     "name": "stdout",
     "output_type": "stream",
     "text": [
      "                                             subject  \\\n",
      "0  Problema crítico del servidor requiere atenció...   \n",
      "1     Anfrage zur Verfügbarkeit des Dell XPS 13 9310   \n",
      "2  Erro na Autocompletação de Código do IntelliJ ...   \n",
      "3            Urgent Assistance Required: AWS Service   \n",
      "4                Problème d'affichage de MacBook Air   \n",
      "\n",
      "                                                body  \\\n",
      "0  Es necesaria una investigación inmediata sobre...   \n",
      "1  Sehr geehrter Kundenservice,\\n\\nich hoffe, die...   \n",
      "2  Prezado Suporte ao Cliente <name>,\\n\\nEstou es...   \n",
      "3  Dear IT Services Support Team, \\n\\nI am reachi...   \n",
      "4  Cher équipe de support du magasin en ligne Tec...   \n",
      "\n",
      "                                              answer      type  \\\n",
      "0  Estamos investigando urgentemente el problema ...  Incident   \n",
      "1  Sehr geehrter <name>,\\n\\nvielen Dank, dass Sie...   Request   \n",
      "2  Prezado <name>,\\n\\nObrigado por entrar em cont...  Incident   \n",
      "3  Dear <name>,\\n\\nThank you for reaching out reg...   Request   \n",
      "4  Cher <name>,\\n\\nMerci de nous avoir contactés ...  Incident   \n",
      "\n",
      "               queue priority language      business_type              tag_1  \\\n",
      "0  Technical Support     high       es        IT Services       Urgent Issue   \n",
      "1   Customer Service      low       de  Tech Online Store      Sales Inquiry   \n",
      "2  Technical Support     high       pt        IT Services  Technical Support   \n",
      "3         IT Support     high       en        IT Services         IT Support   \n",
      "4    Product Support      low       fr  Tech Online Store  Technical Support   \n",
      "\n",
      "                tag_2                 tag_3             tag_4  \\\n",
      "0  Service Disruption       Incident Report  Service Recovery   \n",
      "1     Product Support      Customer Service       Order Issue   \n",
      "2        Software Bug    Problem Resolution      Urgent Issue   \n",
      "3        Urgent Issue  Service Notification    Cloud Services   \n",
      "4     Product Support      Hardware Failure  Service Recovery   \n",
      "\n",
      "                   tag_5               tag_6               tag_7 tag_8  tag_9  \n",
      "0     System Maintenance                 NaN                 NaN   NaN    NaN  \n",
      "1  Returns and Exchanges                 NaN                 NaN   NaN    NaN  \n",
      "2             IT Support                 NaN                 NaN   NaN    NaN  \n",
      "3     Problem Resolution  Technical Guidance  Performance Tuning   NaN    NaN  \n",
      "4        Routine Request                 NaN                 NaN   NaN    NaN  \n"
     ]
    }
   ],
   "source": [
    "import pandas as pd\n",
    "\n",
    "# Load the dataset (replace 'your_dataset.csv' with the actual file path)\n",
    "df = pd.read_csv(r'C:\\Users\\prajw\\Documents\\infosys_internship\\dataset-tickets-multi-lang3-4k.csv')\n",
    "\n",
    "# Display the first few rows of the dataframe\n",
    "print(df.head())"
   ]
  },
  {
   "cell_type": "code",
   "execution_count": 9,
   "metadata": {},
   "outputs": [
    {
     "name": "stdout",
     "output_type": "stream",
     "text": [
      "(4000, 17)\n",
      "Index(['subject', 'body', 'answer', 'type', 'queue', 'priority', 'language',\n",
      "       'business_type', 'tag_1', 'tag_2', 'tag_3', 'tag_4', 'tag_5', 'tag_6',\n",
      "       'tag_7', 'tag_8', 'tag_9'],\n",
      "      dtype='object')\n"
     ]
    }
   ],
   "source": [
    "print(df.shape)  \n",
    "print(df.columns)  # Get the column names"
   ]
  },
  {
   "cell_type": "code",
   "execution_count": 10,
   "metadata": {},
   "outputs": [
    {
     "name": "stdout",
     "output_type": "stream",
     "text": [
      "                                             subject  \\\n",
      "0  Problema crítico del servidor requiere atenció...   \n",
      "1     Anfrage zur Verfügbarkeit des Dell XPS 13 9310   \n",
      "2  Erro na Autocompletação de Código do IntelliJ ...   \n",
      "3            Urgent Assistance Required: AWS Service   \n",
      "4                Problème d'affichage de MacBook Air   \n",
      "\n",
      "                                                body  \\\n",
      "0  Es necesaria una investigación inmediata sobre...   \n",
      "1  Sehr geehrter Kundenservice,\\n\\nich hoffe, die...   \n",
      "2  Prezado Suporte ao Cliente <name>,\\n\\nEstou es...   \n",
      "3  Dear IT Services Support Team, \\n\\nI am reachi...   \n",
      "4  Cher équipe de support du magasin en ligne Tec...   \n",
      "\n",
      "                                              answer      type  \\\n",
      "0  Estamos investigando urgentemente el problema ...  Incident   \n",
      "1  Sehr geehrter <name>,\\n\\nvielen Dank, dass Sie...   Request   \n",
      "2  Prezado <name>,\\n\\nObrigado por entrar em cont...  Incident   \n",
      "3  Dear <name>,\\n\\nThank you for reaching out reg...   Request   \n",
      "4  Cher <name>,\\n\\nMerci de nous avoir contactés ...  Incident   \n",
      "\n",
      "               queue priority language      business_type              tag_1  \\\n",
      "0  Technical Support     high       es        IT Services       Urgent Issue   \n",
      "1   Customer Service      low       de  Tech Online Store      Sales Inquiry   \n",
      "2  Technical Support     high       pt        IT Services  Technical Support   \n",
      "3         IT Support     high       en        IT Services         IT Support   \n",
      "4    Product Support      low       fr  Tech Online Store  Technical Support   \n",
      "\n",
      "                tag_2                 tag_3             tag_4  \\\n",
      "0  Service Disruption       Incident Report  Service Recovery   \n",
      "1     Product Support      Customer Service       Order Issue   \n",
      "2        Software Bug    Problem Resolution      Urgent Issue   \n",
      "3        Urgent Issue  Service Notification    Cloud Services   \n",
      "4     Product Support      Hardware Failure  Service Recovery   \n",
      "\n",
      "                   tag_5               tag_6               tag_7 tag_8  tag_9  \n",
      "0     System Maintenance                 NaN                 NaN   NaN    NaN  \n",
      "1  Returns and Exchanges                 NaN                 NaN   NaN    NaN  \n",
      "2             IT Support                 NaN                 NaN   NaN    NaN  \n",
      "3     Problem Resolution  Technical Guidance  Performance Tuning   NaN    NaN  \n",
      "4        Routine Request                 NaN                 NaN   NaN    NaN  \n",
      "subject           object\n",
      "body              object\n",
      "answer            object\n",
      "type              object\n",
      "queue             object\n",
      "priority          object\n",
      "language          object\n",
      "business_type     object\n",
      "tag_1             object\n",
      "tag_2             object\n",
      "tag_3             object\n",
      "tag_4             object\n",
      "tag_5             object\n",
      "tag_6             object\n",
      "tag_7             object\n",
      "tag_8             object\n",
      "tag_9            float64\n",
      "dtype: object\n",
      "subject           467\n",
      "body                1\n",
      "answer              0\n",
      "type                0\n",
      "queue               0\n",
      "priority            0\n",
      "language            0\n",
      "business_type       0\n",
      "tag_1               0\n",
      "tag_2               0\n",
      "tag_3               0\n",
      "tag_4               1\n",
      "tag_5             637\n",
      "tag_6            1819\n",
      "tag_7            2955\n",
      "tag_8            3731\n",
      "tag_9            4000\n",
      "dtype: int64\n"
     ]
    }
   ],
   "source": [
    "print(df.head())\n",
    "print(df.dtypes)\n"
   ]
  },
  {
   "cell_type": "code",
   "execution_count": 13,
   "metadata": {},
   "outputs": [
    {
     "name": "stdout",
     "output_type": "stream",
     "text": [
      "subject           467\n",
      "body                1\n",
      "answer              0\n",
      "type                0\n",
      "queue               0\n",
      "priority            0\n",
      "language            0\n",
      "business_type       0\n",
      "tag_1               0\n",
      "tag_2               0\n",
      "tag_3               0\n",
      "tag_4               1\n",
      "tag_5             637\n",
      "tag_6            1819\n",
      "tag_7            2955\n",
      "tag_8            3731\n",
      "tag_9            4000\n",
      "dtype: int64\n"
     ]
    }
   ],
   "source": [
    "print(df.isnull().sum())\n"
   ]
  },
  {
   "cell_type": "code",
   "execution_count": 14,
   "metadata": {},
   "outputs": [
    {
     "name": "stdout",
     "output_type": "stream",
     "text": [
      "       tag_9\n",
      "count    0.0\n",
      "mean     NaN\n",
      "std      NaN\n",
      "min      NaN\n",
      "25%      NaN\n",
      "50%      NaN\n",
      "75%      NaN\n",
      "max      NaN\n"
     ]
    }
   ],
   "source": [
    "print(df.describe())  # Get summary statistics for numerical columns"
   ]
  },
  {
   "cell_type": "code",
   "execution_count": 16,
   "metadata": {},
   "outputs": [
    {
     "name": "stdout",
     "output_type": "stream",
     "text": [
      "Index(['subject', 'body', 'answer', 'type', 'queue', 'priority', 'language',\n",
      "       'business_type', 'tag_1', 'tag_2', 'tag_3', 'tag_4', 'tag_5', 'tag_6',\n",
      "       'tag_7', 'tag_8', 'tag_9'],\n",
      "      dtype='object')\n"
     ]
    }
   ],
   "source": [
    "print(df.columns)"
   ]
  },
  {
   "cell_type": "code",
   "execution_count": 21,
   "metadata": {},
   "outputs": [
    {
     "name": "stdout",
     "output_type": "stream",
     "text": [
      "Columns in the dataset:\n",
      "Index(['subject', 'body', 'answer', 'type', 'queue', 'priority', 'language',\n",
      "       'business_type', 'tag_1', 'tag_2', 'tag_3', 'tag_4', 'tag_5', 'tag_6',\n",
      "       'tag_7', 'tag_8', 'tag_9'],\n",
      "      dtype='object')\n",
      "First few rows of the dataset:\n",
      "                                             subject  \\\n",
      "0  Problema crítico del servidor requiere atenció...   \n",
      "1     Anfrage zur Verfügbarkeit des Dell XPS 13 9310   \n",
      "2  Erro na Autocompletação de Código do IntelliJ ...   \n",
      "3            Urgent Assistance Required: AWS Service   \n",
      "4                Problème d'affichage de MacBook Air   \n",
      "5     Urgent: Issue with Zoom Screen Sharing Feature   \n",
      "6    Discrepancia de facturación en Google Workspace   \n",
      "7  Service outage resolution requested for ongoin...   \n",
      "8                                Surface Pro 7 Issue   \n",
      "9   Problèmes de déploiement avec les ressources AWS   \n",
      "\n",
      "                                                body  \\\n",
      "0  Es necesaria una investigación inmediata sobre...   \n",
      "1  Sehr geehrter Kundenservice,\\n\\nich hoffe, die...   \n",
      "2  Prezado Suporte ao Cliente <name>,\\n\\nEstou es...   \n",
      "3  Dear IT Services Support Team, \\n\\nI am reachi...   \n",
      "4  Cher équipe de support du magasin en ligne Tec...   \n",
      "5  Dear Customer Support,\\n\\nI am experiencing a ...   \n",
      "6  Estimado equipo de soporte de TI,\\n\\nEstoy esc...   \n",
      "7  Dear IT Services Customer Support,\\n\\nI am wri...   \n",
      "8  Dear Tech Online Store Support Team,\\n\\nI hope...   \n",
      "9  Cher équipe de support client,\\n\\nJ'espère que...   \n",
      "\n",
      "                                              answer      type  \\\n",
      "0  Estamos investigando urgentemente el problema ...  Incident   \n",
      "1  Sehr geehrter <name>,\\n\\nvielen Dank, dass Sie...   Request   \n",
      "2  Prezado <name>,\\n\\nObrigado por entrar em cont...  Incident   \n",
      "3  Dear <name>,\\n\\nThank you for reaching out reg...   Request   \n",
      "4  Cher <name>,\\n\\nMerci de nous avoir contactés ...  Incident   \n",
      "5  Dear <name>,\\n\\nThank you for reaching out. We...  Incident   \n",
      "6  Estimado <name>,\\n\\nGracias por ponerte en con...  Incident   \n",
      "7  Dear <name>,\\n\\nThank you for reaching out to ...    Change   \n",
      "8  Dear <name>,\\n\\nThank you for reaching out to ...  Incident   \n",
      "9  Cher <name>,\\n\\nMerci de nous avoir contactés ...   Problem   \n",
      "\n",
      "                             queue priority language      business_type  \\\n",
      "0                Technical Support     high       es        IT Services   \n",
      "1                 Customer Service      low       de  Tech Online Store   \n",
      "2                Technical Support     high       pt        IT Services   \n",
      "3                       IT Support     high       en        IT Services   \n",
      "4                  Product Support      low       fr  Tech Online Store   \n",
      "5                Technical Support     high       en        IT Services   \n",
      "6             Billing and Payments      low       es        IT Services   \n",
      "7  Service Outages and Maintenance     high       en        IT Services   \n",
      "8                  Product Support   medium       en  Tech Online Store   \n",
      "9                       IT Support   medium       fr        IT Services   \n",
      "\n",
      "               tag_1               tag_2                 tag_3  \\\n",
      "0       Urgent Issue  Service Disruption       Incident Report   \n",
      "1      Sales Inquiry     Product Support      Customer Service   \n",
      "2  Technical Support        Software Bug    Problem Resolution   \n",
      "3         IT Support        Urgent Issue  Service Notification   \n",
      "4  Technical Support     Product Support      Hardware Failure   \n",
      "5  Technical Support        Urgent Issue    Service Disruption   \n",
      "6      Billing Issue  Account Assistance    Payment Processing   \n",
      "7     Service Outage          IT Support    Problem Resolution   \n",
      "8  Technical Support     Product Support          Software Bug   \n",
      "9  Technical Support  Problem Resolution    Service Disruption   \n",
      "\n",
      "                tag_4                  tag_5               tag_6  \\\n",
      "0    Service Recovery     System Maintenance                 NaN   \n",
      "1         Order Issue  Returns and Exchanges                 NaN   \n",
      "2        Urgent Issue             IT Support                 NaN   \n",
      "3      Cloud Services     Problem Resolution  Technical Guidance   \n",
      "4    Service Recovery        Routine Request                 NaN   \n",
      "5  Problem Resolution           Software Bug                 NaN   \n",
      "6    Customer Service     Problem Resolution                 NaN   \n",
      "7   Technical Support       Service Recovery  System Maintenance   \n",
      "8    Hardware Failure     Problem Resolution    Service Recovery   \n",
      "9        Software Bug     Technical Guidance                 NaN   \n",
      "\n",
      "                tag_7         tag_8  tag_9  \n",
      "0                 NaN           NaN    NaN  \n",
      "1                 NaN           NaN    NaN  \n",
      "2                 NaN           NaN    NaN  \n",
      "3  Performance Tuning           NaN    NaN  \n",
      "4                 NaN           NaN    NaN  \n",
      "5                 NaN           NaN    NaN  \n",
      "6                 NaN           NaN    NaN  \n",
      "7  Performance Tuning  Urgent Issue    NaN  \n",
      "8                 NaN           NaN    NaN  \n",
      "9                 NaN           NaN    NaN  \n"
     ]
    }
   ],
   "source": [
    "# Display the column names\n",
    "print(\"Columns in the dataset:\")\n",
    "print(df.columns)\n",
    "\n",
    "# Display the first few rows of the DataFrame\n",
    "print(\"First few rows of the dataset:\")\n",
    "print(df.head(10))"
   ]
  },
  {
   "cell_type": "code",
   "execution_count": 23,
   "metadata": {},
   "outputs": [
    {
     "data": {
      "text/plain": [
       "Incident    1608\n",
       "Request     1097\n",
       "Problem      853\n",
       "Change       442\n",
       "Name: type, dtype: int64"
      ]
     },
     "execution_count": 23,
     "metadata": {},
     "output_type": "execute_result"
    }
   ],
   "source": [
    "# Analyze the 'type' column to understand its composition\n",
    "dataset = df  # Rename the dataframe for consistency in the code below\n",
    "\n",
    "type_counts = dataset['type'].value_counts()\n",
    "\n",
    "# Display the counts of each issue class\n",
    "type_counts"
   ]
  },
  {
   "cell_type": "code",
   "execution_count": 24,
   "metadata": {},
   "outputs": [
    {
     "name": "stderr",
     "output_type": "stream",
     "text": [
      "c:\\Users\\prajw\\AppData\\Local\\Programs\\Python\\Python311\\Lib\\site-packages\\sklearn\\cluster\\_kmeans.py:1412: FutureWarning: The default value of `n_init` will change from 10 to 'auto' in 1.4. Set the value of `n_init` explicitly to suppress the warning\n",
      "  super()._check_params_vs_input(X, default_n_init=10)\n"
     ]
    },
    {
     "data": {
      "text/plain": [
       "2    1434\n",
       "1     827\n",
       "3     803\n",
       "4     471\n",
       "0     465\n",
       "Name: cluster, dtype: int64"
      ]
     },
     "execution_count": 24,
     "metadata": {},
     "output_type": "execute_result"
    }
   ],
   "source": [
    "from sklearn.feature_extraction.text import TfidfVectorizer\n",
    "from sklearn.cluster import KMeans\n",
    "from sklearn.pipeline import Pipeline\n",
    "import numpy as np\n",
    "\n",
    "# Data Preparation\n",
    "# Combining 'subject' and 'body' columns for clustering\n",
    "df['text_combined'] = df['subject'].fillna('') + \" \" + df['body'].fillna('')\n",
    "\n",
    "# Pipeline for Clustering\n",
    "pipeline = Pipeline([\n",
    "    ('tfidf', TfidfVectorizer(max_features=5000, stop_words='english')),  # Text to numerical features\n",
    "    ('kmeans', KMeans(n_clusters=5, random_state=42))  # KMeans clustering with 5 clusters\n",
    "])\n",
    "\n",
    "# Fit the pipeline to the df\n",
    "pipeline.fit(df['text_combined'])\n",
    "\n",
    "# Get cluster assignments for each ticket\n",
    "df['cluster'] = pipeline.named_steps['kmeans'].labels_\n",
    "\n",
    "# Summarize the number of tickets per cluster\n",
    "cluster_summary = df['cluster'].value_counts()\n",
    "\n",
    "cluster_summary\n"
   ]
  },
  {
   "cell_type": "code",
   "execution_count": 25,
   "metadata": {},
   "outputs": [
    {
     "data": {
      "image/png": "[encoded data removed]",
      "text/plain": [
       "<Figure size 1000x600 with 1 Axes>"
      ]
     },
     "metadata": {},
     "output_type": "display_data"
    }
   ],
   "source": [
    "import matplotlib.pyplot as plt\n",
    "\n",
    "# Visualize the cluster distribution using a bar chart\n",
    "plt.figure(figsize=(10, 6))\n",
    "cluster_summary.sort_index().plot(kind='bar', color='skyblue', edgecolor='black')\n",
    "plt.title('Cluster Distribution of Tickets', fontsize=16)\n",
    "plt.xlabel('Cluster', fontsize=14)\n",
    "plt.ylabel('Number of Tickets', fontsize=14)\n",
    "plt.xticks(fontsize=12, rotation=0)\n",
    "plt.grid(axis='y', linestyle='--', alpha=0.7)\n",
    "plt.tight_layout()\n",
    "plt.show()\n"
   ]
  },
  {
   "cell_type": "code",
   "execution_count": 26,
   "metadata": {},
   "outputs": [
    {
     "name": "stdout",
     "output_type": "stream",
     "text": [
      "Entries in Cluster 2:\n",
      "                                              subject  \\\n",
      "3             Urgent Assistance Required: AWS Service   \n",
      "5      Urgent: Issue with Zoom Screen Sharing Feature   \n",
      "7   Service outage resolution requested for ongoin...   \n",
      "8                                 Surface Pro 7 Issue   \n",
      "10  Request for software development consultation ...   \n",
      "\n",
      "                                                 body  \\\n",
      "3   Dear IT Services Support Team, \\n\\nI am reachi...   \n",
      "5   Dear Customer Support,\\n\\nI am experiencing a ...   \n",
      "7   Dear IT Services Customer Support,\\n\\nI am wri...   \n",
      "8   Dear Tech Online Store Support Team,\\n\\nI hope...   \n",
      "10  Dear Customer Support,\\n\\nI hope this message ...   \n",
      "\n",
      "                                        text_combined  \n",
      "3   Urgent Assistance Required: AWS Service Dear I...  \n",
      "5   Urgent: Issue with Zoom Screen Sharing Feature...  \n",
      "7   Service outage resolution requested for ongoin...  \n",
      "8   Surface Pro 7 Issue Dear Tech Online Store Sup...  \n",
      "10  Request for software development consultation ...  \n"
     ]
    }
   ],
   "source": [
    "# Filter the DataFrame for entries in cluster 2\n",
    "cluster_2_entries = df[df['cluster'] == 2]\n",
    "\n",
    "# Display the first few entries in cluster 2\n",
    "print(\"Entries in Cluster 2:\")\n",
    "print(cluster_2_entries[['subject', 'body', 'text_combined']].head())  # Adjust columns as needed"
   ]
  },
  {
   "cell_type": "code",
   "execution_count": 28,
   "metadata": {},
   "outputs": [
    {
     "name": "stdout",
     "output_type": "stream",
     "text": [
      "Hello john.doe, we have identified your issue as 'Login issue'. Our team is actively working on resolving this. Thank you for your patience!\n",
      "Hello jane.smith, we have identified your issue as 'Payment issue'. Our team is actively working on resolving this. Thank you for your patience!\n",
      "Hello alice.jones, we have identified your issue as 'Payment issue'. Our team is actively working on resolving this. Thank you for your patience!\n",
      "Hello bob.brown, we have identified your issue as 'Payment issue'. Our team is actively working on resolving this. Thank you for your patience!\n",
      "Hello charlie.white, we have identified your issue as 'Order issue'. Our team is actively working on resolving this. Thank you for your patience!\n"
     ]
    },
    {
     "name": "stderr",
     "output_type": "stream",
     "text": [
      "c:\\Users\\prajw\\AppData\\Local\\Programs\\Python\\Python311\\Lib\\site-packages\\sklearn\\cluster\\_kmeans.py:1412: FutureWarning: The default value of `n_init` will change from 10 to 'auto' in 1.4. Set the value of `n_init` explicitly to suppress the warning\n",
      "  super()._check_params_vs_input(X, default_n_init=10)\n"
     ]
    }
   ],
   "source": [
    "import pandas as pd\n",
    "from sklearn.feature_extraction.text import TfidfVectorizer\n",
    "from sklearn.cluster import KMeans\n",
    "from sklearn.pipeline import Pipeline\n",
    "\n",
    "# Dataset with email column\n",
    "df = pd.DataFrame({\n",
    "    'email': ['john.doe@example.com', 'jane.smith@example.com', 'alice.jones@example.com', 'bob.brown@example.com', 'charlie.white@example.com'],\n",
    "    'subject': ['Login issue', 'Payment failed', 'Unable to reset password', 'Order not delivered', 'Refund delayed'],\n",
    "    'body': [\n",
    "        'Cannot log in to my account', \n",
    "        'Payment did not go through', \n",
    "        'Forgot password and cannot reset', \n",
    "        'My package is not delivered yet', \n",
    "        'Waiting for refund for 2 weeks'\n",
    "    ]\n",
    "})\n",
    "\n",
    "# Combine 'subject' and 'body' for clustering\n",
    "df['text_combined'] = df['subject'].fillna('') + \" \" + df['body'].fillna('')\n",
    "\n",
    "# Pipeline for Clustering\n",
    "pipeline = Pipeline([\n",
    "    ('tfidf', TfidfVectorizer(max_features=5000, stop_words='english')),  # Text to numerical features\n",
    "    ('kmeans', KMeans(n_clusters=3, random_state=42))  # KMeans clustering with 3 clusters\n",
    "])\n",
    "\n",
    "# Fit the pipeline\n",
    "pipeline.fit(df['text_combined'])\n",
    "\n",
    "# Assign clusters to each ticket\n",
    "df['cluster'] = pipeline.named_steps['kmeans'].labels_\n",
    "\n",
    "# Summarize the number of tickets per cluster\n",
    "cluster_summary = df['cluster'].value_counts()\n",
    "\n",
    "# Template for responses\n",
    "def generate_response(username, issue_type):\n",
    "    return f\"Hello {username}, we have identified your issue as '{issue_type}'. Our team is actively working on resolving this. Thank you for your patience!\"\n",
    "\n",
    "# Generate a response for each cluster\n",
    "issue_types = [\"Login issue\", \"Payment issue\", \"Order issue\"]  # Replace with descriptive names for clusters\n",
    "\n",
    "for index, row in df.iterrows():\n",
    "    email = row['email']\n",
    "    username = email.split('@')[0]  # Extract username from email\n",
    "    cluster_id = row['cluster']\n",
    "    issue_type = issue_types[cluster_id]\n",
    "    print(generate_response(username, issue_type))"
   ]
  }
 ],
 "metadata": {
  "kernelspec": {
   "display_name": "Python 3",
   "language": "python",
   "name": "python3"
  },
  "language_info": {
   "codemirror_mode": {
    "name": "ipython",
    "version": 3
   },
   "file_extension": ".py",
   "mimetype": "text/x-python",
   "name": "python",
   "nbconvert_exporter": "python",
   "pygments_lexer": "ipython3",
   "version": "3.11.4"
  }
 },
 "nbformat": 4,
 "nbformat_minor": 2
}
